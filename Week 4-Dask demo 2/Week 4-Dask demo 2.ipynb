{
 "cells": [
  {
   "cell_type": "code",
   "execution_count": 36,
   "id": "029c7f1d-75d4-451e-be8b-e6adf363c5e8",
   "metadata": {},
   "outputs": [],
   "source": [
    "import time\n",
    "import dask.bag as db\n",
    "import matplotlib.pylab as plt\n",
    "from functools import partial"
   ]
  },
  {
   "cell_type": "code",
   "execution_count": 37,
   "id": "d174ed2a-7a51-4d68-9022-e59ae47fe452",
   "metadata": {},
   "outputs": [
    {
     "name": "stdout",
     "output_type": "stream",
     "text": [
      "Block size =  10\n",
      "Block size =  100\n",
      "Block size =  1000\n",
      "Block size =  10000\n",
      "Block size =  100000\n",
      "Block size =  1000000\n",
      "Block size =  10000000\n",
      "Block size =  100000000\n",
      "Block size =  1000000000\n",
      "[('and', 1553), ('to', 1390), ('the', 1326), ('of', 974), ('a', 951), ('that', 905), ('you', 733), ('in', 664), ('I', 664), ('we', 487)]\n"
     ]
    }
   ],
   "source": [
    "timings = {}\n",
    "block = 10\n",
    "for i in range (1, 10) :\n",
    "    print(\"Block size = \",  block)\n",
    "    start_time = time.perf_counter()\n",
    "    b = db.read_text('transcript.txt', blocksize=block)\n",
    "    wordcount = b.str.split().flatten().frequencies().topk(10, lambda x: x[1])\n",
    "    output = wordcount.compute()\n",
    "    end_time = time.perf_counter()\n",
    "    block = block * 10\n",
    "    timings[i] = end_time-start_time\n",
    "\n",
    "#What do you notice about the output?\n",
    "print(output)"
   ]
  },
  {
   "cell_type": "code",
   "execution_count": 38,
   "id": "81b58d20-96c7-4953-bd1a-f29cf1456796",
   "metadata": {},
   "outputs": [
    {
     "data": {
      "image/png": "[encoded data removed]",
      "text/plain": [
       "<Figure size 640x480 with 1 Axes>"
      ]
     },
     "metadata": {},
     "output_type": "display_data"
    }
   ],
   "source": [
    "lists = sorted(timings.items()) # sorted by key, return a list of tuples\n",
    "x, y = zip(*lists) # unpack a list of pairs into two tuples\n",
    "plt.plot(x, y)\n",
    "plt.show()"
   ]
  },
  {
   "cell_type": "code",
   "execution_count": 39,
   "id": "01bac487-f933-4b3a-809a-56dfa953b96c",
   "metadata": {},
   "outputs": [
    {
     "name": "stdout",
     "output_type": "stream",
     "text": [
      "Block size = 10\n",
      "[('and', 1768), ('to', 1391), ('the', 1370), ('a', 987), ('of', 980), ('that', 932), ('you', 834), ('in', 679), ('i', 679), ('we', 598), ('so', 547), ('is', 471), ('for', 454), ('it', 417), ('have', 372), ('with', 336), ('are', 330), ('really', 289), ('this', 274), ('but', 266)]\n",
      "This run took 28.051395799964666\n"
     ]
    }
   ],
   "source": [
    "from concurrent.futures import ThreadPoolExecutor\n",
    "from collections import Counter \n",
    "\n",
    "block = 10\n",
    "TOP_20 = 20\n",
    "stopword_set = set()\n",
    "\n",
    "def filter_stopword(word):\n",
    "    return word not in stopword_set\n",
    "\n",
    "def filter_stopwords(words):\n",
    "    return [word for word in words if filter_stopword(word)]\n",
    "\n",
    "def process_block(block_text):\n",
    "    cleaned_text = block_text.lower().replace(r'[^\\w\\s]', '') \n",
    "    words = cleaned_text.split()\n",
    "    return filter_stopwords(words)\n",
    "\n",
    "print(\"Block size =\", block)\n",
    "start_time = time.perf_counter()\n",
    "b = db.read_text('transcript.txt', blocksize=block)\n",
    "\n",
    "with ThreadPoolExecutor() as executor:\n",
    "    word_counts = executor.map(process_block, b)\n",
    "\n",
    "flat_words = [word for block in word_counts for word in block]\n",
    "wordcount = Counter(flat_words).most_common(TOP_20)\n",
    "output = wordcount\n",
    "end_time = time.perf_counter()\n",
    "\n",
    "print(output)\n",
    "print(\"This run took\", end_time - start_time)"
   ]
  },
  {
   "cell_type": "code",
   "execution_count": null,
   "id": "d0c1d400-cdb8-4329-b2c3-549d82303d73",
   "metadata": {},
   "outputs": [],
   "source": []
  }
 ],
 "metadata": {
  "kernelspec": {
   "display_name": "Python 3 (ipykernel)",
   "language": "python",
   "name": "python3"
  },
  "language_info": {
   "codemirror_mode": {
    "name": "ipython",
    "version": 3
   },
   "file_extension": ".py",
   "mimetype": "text/x-python",
   "name": "python",
   "nbconvert_exporter": "python",
   "pygments_lexer": "ipython3",
   "version": "3.12.4"
  }
 },
 "nbformat": 4,
 "nbformat_minor": 5
}
