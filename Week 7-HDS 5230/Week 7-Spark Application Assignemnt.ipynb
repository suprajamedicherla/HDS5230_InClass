{
 "cells": [
  {
   "cell_type": "markdown",
   "metadata": {
    "application/vnd.databricks.v1+cell": {
     "cellMetadata": {},
     "inputWidgets": {},
     "nuid": "96816ed7-b08a-4ca3-abb9-f99880c3535d",
     "showTitle": false,
     "tableResultSettingsMap": {},
     "title": ""
    }
   },
   "source": [
    "\n",
    "## Week 07- Spark Application\n"
   ]
  },
  {
   "cell_type": "code",
   "execution_count": 0,
   "metadata": {
    "application/vnd.databricks.v1+cell": {
     "cellMetadata": {
      "byteLimit": 2048000,
      "rowLimit": 10000
     },
     "inputWidgets": {},
     "nuid": "b12a432a-347c-43fb-9079-1cd9064f9eb3",
     "showTitle": false,
     "tableResultSettingsMap": {},
     "title": ""
    }
   },
   "outputs": [
    {
     "output_type": "stream",
     "name": "stdout",
     "output_type": "stream",
     "text": [
      "['hsperfdata_root', 'systemd-private-04abd221ea9c45569792aebf11b18e72-systemd-resolved.service-xgoqri', 'custom-spark.conf', 'OP_DTL_OWNRSHP_PGYR2023_P01302025_01212025.csv', '.Test-unix', 'chauffeur-daemon.pid', 'systemd-private-04abd221ea9c45569792aebf11b18e72-systemd-logind.service-Ou1hOg', 'chauffeur-env.sh', 'systemd-private-04abd221ea9c45569792aebf11b18e72-ntp.service-kRMxEg', 'driver-daemon-params', 'Rtmph2Y4fg', '.ICE-unix', 'driver-env.sh', '.PGYR2023_P01302025_01212025-1.zip.crc', '.font-unix', 'systemd-private-04abd221ea9c45569792aebf11b18e72-apache2.service-moi4ri', 'tmp.gYEsTitdlA', '.XIM-unix', 'OP_PGYR2023_README_P01302025.txt', 'Rserv', 'OP_DTL_RSRCH_PGYR2023_P01302025_01212025.csv', 'driver-daemon.pid', 'OP_REMOVED_DELETED_PGYR2023_P01302025_01212025.csv', 'chauffeur-daemon-params', 'OP_DTL_GNRL_PGYR2023_P01302025_01212025.csv', '.X11-unix', 'PGYR2023_P01302025_01212025-1.zip']\n"
     ]
    }
   ],
   "source": [
    "import zipfile\n",
    "import os\n",
    "\n",
    "# Copy the .zip file from DBFS to the local filesystem (temporary directory)\n",
    "dbutils.fs.cp(\"dbfs:/FileStore/tables/PGYR2023_P01302025_01212025-1.zip\", \"file:/tmp/PGYR2023_P01302025_01212025-1.zip\")\n",
    "\n",
    "# Unzip the copied file\n",
    "with zipfile.ZipFile(\"/tmp/PGYR2023_P01302025_01212025-1.zip\", \"r\") as zip_ref:\n",
    "    zip_ref.extractall(\"/tmp/\")\n",
    "\n",
    "# List the contents of the /tmp/ directory\n",
    "extracted_files = os.listdir(\"/tmp/\")\n",
    "print(extracted_files)\n"
   ]
  },
  {
   "cell_type": "code",
   "execution_count": 0,
   "metadata": {
    "application/vnd.databricks.v1+cell": {
     "cellMetadata": {
      "byteLimit": 2048000,
      "rowLimit": 10000
     },
     "inputWidgets": {},
     "nuid": "670834db-6e9c-401a-bfc3-2aa079b48588",
     "showTitle": false,
     "tableResultSettingsMap": {},
     "title": ""
    }
   },
   "outputs": [
    {
     "output_type": "stream",
     "name": "stdout",
     "output_type": "stream",
     "text": [
      "File is copied to DBFS at: dbfs:/FileStore/tables/OP_DTL_GNRL_PGYR2023_P01302025_01212025.csv\n"
     ]
    }
   ],
   "source": [
    "# Define the local file path (temporary location) and DBFS destination path\n",
    "local_file_path = \"file:/tmp/OP_DTL_GNRL_PGYR2023_P01302025_01212025.csv\"  # Path in /tmp/ or local system\n",
    "dbfs_dest_path = \"dbfs:/FileStore/tables/OP_DTL_GNRL_PGYR2023_P01302025_01212025.csv\"  # DBFS destination path\n",
    "\n",
    "# Copy the file from the local file system (temporary location) to DBFS\n",
    "dbutils.fs.cp(local_file_path, dbfs_dest_path)\n",
    "\n",
    "# Verify that the file is copied to DBFS\n",
    "print(f\"File is copied to DBFS at: {dbfs_dest_path}\")\n"
   ]
  },
  {
   "cell_type": "code",
   "execution_count": 0,
   "metadata": {
    "application/vnd.databricks.v1+cell": {
     "cellMetadata": {
      "byteLimit": 2048000,
      "rowLimit": 10000
     },
     "inputWidgets": {},
     "nuid": "b29e9fef-4c91-433d-a772-02852f3a2833",
     "showTitle": false,
     "tableResultSettingsMap": {},
     "title": ""
    }
   },
   "outputs": [],
   "source": [
    "from pyspark.sql import SparkSession\n",
    "from pyspark.sql.functions import col, desc\n",
    "from pyspark.sql.types import IntegerType\n",
    "from pyspark.sql.functions import sum\n",
    "from pyspark.sql.types import LongType"
   ]
  },
  {
   "cell_type": "markdown",
   "metadata": {
    "application/vnd.databricks.v1+cell": {
     "cellMetadata": {},
     "inputWidgets": {},
     "nuid": "9ebf33a5-9981-4886-bad0-6884a765aaf0",
     "showTitle": false,
     "tableResultSettingsMap": {},
     "title": ""
    }
   },
   "source": [
    "**Load the data**\n",
    "\n",
    "CMS 2023 Open Payments file (https://download.cms.gov/openpayments/PGYR2023_P01302025_01212025.zipLinks)"
   ]
  },
  {
   "cell_type": "code",
   "execution_count": 0,
   "metadata": {
    "application/vnd.databricks.v1+cell": {
     "cellMetadata": {
      "byteLimit": 2048000,
      "rowLimit": 10000
     },
     "inputWidgets": {},
     "nuid": "6482be4c-f067-47c9-b0ac-35c938b94601",
     "showTitle": false,
     "tableResultSettingsMap": {},
     "title": ""
    }
   },
   "outputs": [
    {
     "output_type": "display_data",
     "data": {
      "text/html": [
       "<style scoped>\n",
       "  .table-result-container {\n",
       "    max-height: 300px;\n",
       "    overflow: auto;\n",
       "  }\n",
       "  table, th, td {\n",
       "    border: 1px solid black;\n",
       "    border-collapse: collapse;\n",
       "  }\n",
       "  th, td {\n",
       "    padding: 5px;\n",
       "  }\n",
       "  th {\n",
       "    text-align: left;\n",
       "  }\n",
       "</style><div class='table-result-container'><table class='table-result'><thead style='background-color: white'><tr><th>Change_Type</th><th>Covered_Recipient_Type</th><th>Teaching_Hospital_CCN</th><th>Teaching_Hospital_ID</th><th>Teaching_Hospital_Name</th><th>Covered_Recipient_Profile_ID</th><th>Covered_Recipient_NPI</th><th>Covered_Recipient_First_Name</th><th>Covered_Recipient_Middle_Name</th><th>Covered_Recipient_Last_Name</th><th>Covered_Recipient_Name_Suffix</th><th>Recipient_Primary_Business_Street_Address_Line1</th><th>Recipient_Primary_Business_Street_Address_Line2</th><th>Recipient_City</th><th>Recipient_State</th><th>Recipient_Zip_Code</th><th>Recipient_Country</th><th>Recipient_Province</th><th>Recipient_Postal_Code</th><th>Covered_Recipient_Primary_Type_1</th><th>Covered_Recipient_Primary_Type_2</th><th>Covered_Recipient_Primary_Type_3</th><th>Covered_Recipient_Primary_Type_4</th><th>Covered_Recipient_Primary_Type_5</th><th>Covered_Recipient_Primary_Type_6</th><th>Covered_Recipient_Specialty_1</th><th>Covered_Recipient_Specialty_2</th><th>Covered_Recipient_Specialty_3</th><th>Covered_Recipient_Specialty_4</th><th>Covered_Recipient_Specialty_5</th><th>Covered_Recipient_Specialty_6</th><th>Covered_Recipient_License_State_code1</th><th>Covered_Recipient_License_State_code2</th><th>Covered_Recipient_License_State_code3</th><th>Covered_Recipient_License_State_code4</th><th>Covered_Recipient_License_State_code5</th><th>Submitting_Applicable_Manufacturer_or_Applicable_GPO_Name</th><th>Applicable_Manufacturer_or_Applicable_GPO_Making_Payment_ID</th><th>Applicable_Manufacturer_or_Applicable_GPO_Making_Payment_Name</th><th>Applicable_Manufacturer_or_Applicable_GPO_Making_Payment_State</th><th>Applicable_Manufacturer_or_Applicable_GPO_Making_Payment_Country</th><th>Total_Amount_of_Payment_USDollars</th><th>Date_of_Payment</th><th>Number_of_Payments_Included_in_Total_Amount</th><th>Form_of_Payment_or_Transfer_of_Value</th><th>Nature_of_Payment_or_Transfer_of_Value</th><th>City_of_Travel</th><th>State_of_Travel</th><th>Country_of_Travel</th><th>Physician_Ownership_Indicator</th><th>Third_Party_Payment_Recipient_Indicator</th><th>Name_of_Third_Party_Entity_Receiving_Payment_or_Transfer_of_Value</th><th>Charity_Indicator</th><th>Third_Party_Equals_Covered_Recipient_Indicator</th><th>Contextual_Information</th><th>Delay_in_Publication_Indicator</th><th>Record_ID</th><th>Dispute_Status_for_Publication</th><th>Related_Product_Indicator</th><th>Covered_or_Noncovered_Indicator_1</th><th>Indicate_Drug_or_Biological_or_Device_or_Medical_Supply_1</th><th>Product_Category_or_Therapeutic_Area_1</th><th>Name_of_Drug_or_Biological_or_Device_or_Medical_Supply_1</th><th>Associated_Drug_or_Biological_NDC_1</th><th>Associated_Device_or_Medical_Supply_PDI_1</th><th>Covered_or_Noncovered_Indicator_2</th><th>Indicate_Drug_or_Biological_or_Device_or_Medical_Supply_2</th><th>Product_Category_or_Therapeutic_Area_2</th><th>Name_of_Drug_or_Biological_or_Device_or_Medical_Supply_2</th><th>Associated_Drug_or_Biological_NDC_2</th><th>Associated_Device_or_Medical_Supply_PDI_2</th><th>Covered_or_Noncovered_Indicator_3</th><th>Indicate_Drug_or_Biological_or_Device_or_Medical_Supply_3</th><th>Product_Category_or_Therapeutic_Area_3</th><th>Name_of_Drug_or_Biological_or_Device_or_Medical_Supply_3</th><th>Associated_Drug_or_Biological_NDC_3</th><th>Associated_Device_or_Medical_Supply_PDI_3</th><th>Covered_or_Noncovered_Indicator_4</th><th>Indicate_Drug_or_Biological_or_Device_or_Medical_Supply_4</th><th>Product_Category_or_Therapeutic_Area_4</th><th>Name_of_Drug_or_Biological_or_Device_or_Medical_Supply_4</th><th>Associated_Drug_or_Biological_NDC_4</th><th>Associated_Device_or_Medical_Supply_PDI_4</th><th>Covered_or_Noncovered_Indicator_5</th><th>Indicate_Drug_or_Biological_or_Device_or_Medical_Supply_5</th><th>Product_Category_or_Therapeutic_Area_5</th><th>Name_of_Drug_or_Biological_or_Device_or_Medical_Supply_5</th><th>Associated_Drug_or_Biological_NDC_5</th><th>Associated_Device_or_Medical_Supply_PDI_5</th><th>Program_Year</th><th>Payment_Publication_Date</th></tr></thead><tbody><tr><td>CHANGED</td><td>Covered Recipient Teaching Hospital</td><td>220162</td><td>9984</td><td>Adventhealth Orlando</td><td>null</td><td>null</td><td>null</td><td>null</td><td>null</td><td>null</td><td>601 E Rollins St</td><td>null</td><td>Orlando</td><td>FL</td><td>32803</td><td>United States</td><td>null</td><td>null</td><td>null</td><td>null</td><td>null</td><td>null</td><td>null</td><td>null</td><td>null</td><td>null</td><td>null</td><td>null</td><td>null</td><td>null</td><td>null</td><td>null</td><td>null</td><td>null</td><td>null</td><td>Integra LifeSciences Corporation</td><td>100000010950</td><td>Integra LifeSciences Corporation</td><td>NJ</td><td>United States</td><td>2000.00</td><td>07/20/2023</td><td>1</td><td>Cash or cash equivalent</td><td>Grant</td><td>null</td><td>null</td><td>null</td><td>No</td><td>No Third Party Payment</td><td>null</td><td>null</td><td>null</td><td>null</td><td>No</td><td>1031636873</td><td>No</td><td>Yes</td><td>Covered</td><td>Device</td><td>Neuro Critical Care</td><td>CODMAN CERTAS</td><td>null</td><td>10381780529033</td><td>null</td><td>null</td><td>null</td><td>null</td><td>null</td><td>null</td><td>null</td><td>null</td><td>null</td><td>null</td><td>null</td><td>null</td><td>null</td><td>null</td><td>null</td><td>null</td><td>null</td><td>null</td><td>null</td><td>null</td><td>null</td><td>null</td><td>null</td><td>null</td><td>2023</td><td>01/30/2025</td></tr><tr><td>CHANGED</td><td>Covered Recipient Teaching Hospital</td><td>220162</td><td>9984</td><td>Carle Foundation Hospital</td><td>null</td><td>null</td><td>null</td><td>null</td><td>null</td><td>null</td><td>2300 N Vermilion St</td><td>null</td><td>Danville</td><td>IL</td><td>61832</td><td>United States</td><td>null</td><td>null</td><td>null</td><td>null</td><td>null</td><td>null</td><td>null</td><td>null</td><td>null</td><td>null</td><td>null</td><td>null</td><td>null</td><td>null</td><td>null</td><td>null</td><td>null</td><td>null</td><td>null</td><td>Integra LifeSciences Corporation</td><td>100000010950</td><td>Integra LifeSciences Corporation</td><td>NJ</td><td>United States</td><td>1500.00</td><td>11/03/2023</td><td>1</td><td>Cash or cash equivalent</td><td>Grant</td><td>null</td><td>null</td><td>null</td><td>No</td><td>No Third Party Payment</td><td>null</td><td>null</td><td>null</td><td>null</td><td>No</td><td>1031636879</td><td>No</td><td>Yes</td><td>Covered</td><td>Device</td><td>Neuro Critical Care</td><td>CODMAN CERTAS</td><td>null</td><td>10381780529033</td><td>null</td><td>null</td><td>null</td><td>null</td><td>null</td><td>null</td><td>null</td><td>null</td><td>null</td><td>null</td><td>null</td><td>null</td><td>null</td><td>null</td><td>null</td><td>null</td><td>null</td><td>null</td><td>null</td><td>null</td><td>null</td><td>null</td><td>null</td><td>null</td><td>2023</td><td>01/30/2025</td></tr><tr><td>CHANGED</td><td>Covered Recipient Teaching Hospital</td><td>220162</td><td>9984</td><td>St. Josephs Hospital & Medical Ctr</td><td>null</td><td>null</td><td>null</td><td>null</td><td>null</td><td>null</td><td>4975 N Dysart Rd Ste 100</td><td>null</td><td>Litchfield Park</td><td>AZ</td><td>85340</td><td>United States</td><td>null</td><td>null</td><td>null</td><td>null</td><td>null</td><td>null</td><td>null</td><td>null</td><td>null</td><td>null</td><td>null</td><td>null</td><td>null</td><td>null</td><td>null</td><td>null</td><td>null</td><td>null</td><td>null</td><td>Integra LifeSciences Corporation</td><td>100000010950</td><td>Integra LifeSciences Corporation</td><td>NJ</td><td>United States</td><td>2500.00</td><td>03/21/2023</td><td>1</td><td>Cash or cash equivalent</td><td>Grant</td><td>null</td><td>null</td><td>null</td><td>No</td><td>No Third Party Payment</td><td>null</td><td>null</td><td>null</td><td>null</td><td>No</td><td>1031636885</td><td>No</td><td>Yes</td><td>Covered</td><td>Device</td><td>Neuro Critical Care</td><td>CODMAN CERTAS</td><td>null</td><td>10381780529033</td><td>null</td><td>null</td><td>null</td><td>null</td><td>null</td><td>null</td><td>null</td><td>null</td><td>null</td><td>null</td><td>null</td><td>null</td><td>null</td><td>null</td><td>null</td><td>null</td><td>null</td><td>null</td><td>null</td><td>null</td><td>null</td><td>null</td><td>null</td><td>null</td><td>2023</td><td>01/30/2025</td></tr><tr><td>CHANGED</td><td>Covered Recipient Teaching Hospital</td><td>220162</td><td>9984</td><td>St. Josephs Hospital & Medical Ctr</td><td>null</td><td>null</td><td>null</td><td>null</td><td>null</td><td>null</td><td>4975 N Dysart Rd Ste 100</td><td>null</td><td>Litchfield Park</td><td>AZ</td><td>85340</td><td>United States</td><td>null</td><td>null</td><td>null</td><td>null</td><td>null</td><td>null</td><td>null</td><td>null</td><td>null</td><td>null</td><td>null</td><td>null</td><td>null</td><td>null</td><td>null</td><td>null</td><td>null</td><td>null</td><td>null</td><td>Integra LifeSciences Corporation</td><td>100000010950</td><td>Integra LifeSciences Corporation</td><td>NJ</td><td>United States</td><td>3000.00</td><td>04/14/2023</td><td>1</td><td>Cash or cash equivalent</td><td>Grant</td><td>null</td><td>null</td><td>null</td><td>No</td><td>No Third Party Payment</td><td>null</td><td>null</td><td>null</td><td>null</td><td>No</td><td>1031636889</td><td>No</td><td>Yes</td><td>Covered</td><td>Device</td><td>Neuro Critical Care</td><td>CODMAN CERTAS</td><td>null</td><td>10381780529033</td><td>null</td><td>null</td><td>null</td><td>null</td><td>null</td><td>null</td><td>null</td><td>null</td><td>null</td><td>null</td><td>null</td><td>null</td><td>null</td><td>null</td><td>null</td><td>null</td><td>null</td><td>null</td><td>null</td><td>null</td><td>null</td><td>null</td><td>null</td><td>null</td><td>2023</td><td>01/30/2025</td></tr><tr><td>CHANGED</td><td>Covered Recipient Teaching Hospital</td><td>220162</td><td>9984</td><td>Uc Davis Medical Center</td><td>null</td><td>null</td><td>null</td><td>null</td><td>null</td><td>null</td><td>2315 Stockton Blvd</td><td>null</td><td>Sacramento</td><td>CA</td><td>95817</td><td>United States</td><td>null</td><td>null</td><td>null</td><td>null</td><td>null</td><td>null</td><td>null</td><td>null</td><td>null</td><td>null</td><td>null</td><td>null</td><td>null</td><td>null</td><td>null</td><td>null</td><td>null</td><td>null</td><td>null</td><td>Integra LifeSciences Corporation</td><td>100000010950</td><td>Integra LifeSciences Corporation</td><td>NJ</td><td>United States</td><td>3921.61</td><td>04/30/2023</td><td>1</td><td>Cash or cash equivalent</td><td>Honoraria</td><td>null</td><td>null</td><td>null</td><td>No</td><td>No Third Party Payment</td><td>null</td><td>null</td><td>null</td><td>null</td><td>No</td><td>1031636896</td><td>No</td><td>Yes</td><td>Covered</td><td>Device</td><td>Neuro Critical Care</td><td>CODMAN CERTAS</td><td>null</td><td>10381780529033</td><td>Covered</td><td>Device</td><td>Neuro Critical Care</td><td>CUSA CLARITY</td><td>null</td><td>10381780126232</td><td>null</td><td>null</td><td>null</td><td>null</td><td>null</td><td>null</td><td>null</td><td>null</td><td>null</td><td>null</td><td>null</td><td>null</td><td>null</td><td>null</td><td>null</td><td>null</td><td>null</td><td>null</td><td>2023</td><td>01/30/2025</td></tr></tbody></table></div>"
      ]
     },
     "metadata": {
      "application/vnd.databricks.v1+output": {
       "addedWidgets": {},
       "aggData": [],
       "aggError": "",
       "aggOverflow": false,
       "aggSchema": [],
       "aggSeriesLimitReached": false,
       "aggType": "",
       "arguments": {},
       "columnCustomDisplayInfos": {},
       "data": [
        [
         "CHANGED",
         "Covered Recipient Teaching Hospital",
         "220162",
         "9984",
         "Adventhealth Orlando",
         null,
         null,
         null,
         null,
         null,
         null,
         "601 E Rollins St",
         null,
         "Orlando",
         "FL",
         "32803",
         "United States",
         null,
         null,
         null,
         null,
         null,
         null,
         null,
         null,
         null,
         null,
         null,
         null,
         null,
         null,
         null,
         null,
         null,
         null,
         null,
         "Integra LifeSciences Corporation",
         "100000010950",
         "Integra LifeSciences Corporation",
         "NJ",
         "United States",
         "2000.00",
         "07/20/2023",
         "1",
         "Cash or cash equivalent",
         "Grant",
         null,
         null,
         null,
         "No",
         "No Third Party Payment",
         null,
         null,
         null,
         null,
         "No",
         "1031636873",
         "No",
         "Yes",
         "Covered",
         "Device",
         "Neuro Critical Care",
         "CODMAN CERTAS",
         null,
         "10381780529033",
         null,
         null,
         null,
         null,
         null,
         null,
         null,
         null,
         null,
         null,
         null,
         null,
         null,
         null,
         null,
         null,
         null,
         null,
         null,
         null,
         null,
         null,
         null,
         null,
         2023,
         "01/30/2025"
        ],
        [
         "CHANGED",
         "Covered Recipient Teaching Hospital",
         "220162",
         "9984",
         "Carle Foundation Hospital",
         null,
         null,
         null,
         null,
         null,
         null,
         "2300 N Vermilion St",
         null,
         "Danville",
         "IL",
         "61832",
         "United States",
         null,
         null,
         null,
         null,
         null,
         null,
         null,
         null,
         null,
         null,
         null,
         null,
         null,
         null,
         null,
         null,
         null,
         null,
         null,
         "Integra LifeSciences Corporation",
         "100000010950",
         "Integra LifeSciences Corporation",
         "NJ",
         "United States",
         "1500.00",
         "11/03/2023",
         "1",
         "Cash or cash equivalent",
         "Grant",
         null,
         null,
         null,
         "No",
         "No Third Party Payment",
         null,
         null,
         null,
         null,
         "No",
         "1031636879",
         "No",
         "Yes",
         "Covered",
         "Device",
         "Neuro Critical Care",
         "CODMAN CERTAS",
         null,
         "10381780529033",
         null,
         null,
         null,
         null,
         null,
         null,
         null,
         null,
         null,
         null,
         null,
         null,
         null,
         null,
         null,
         null,
         null,
         null,
         null,
         null,
         null,
         null,
         null,
         null,
         2023,
         "01/30/2025"
        ],
        [
         "CHANGED",
         "Covered Recipient Teaching Hospital",
         "220162",
         "9984",
         "St. Josephs Hospital & Medical Ctr",
         null,
         null,
         null,
         null,
         null,
         null,
         "4975 N Dysart Rd Ste 100",
         null,
         "Litchfield Park",
         "AZ",
         "85340",
         "United States",
         null,
         null,
         null,
         null,
         null,
         null,
         null,
         null,
         null,
         null,
         null,
         null,
         null,
         null,
         null,
         null,
         null,
         null,
         null,
         "Integra LifeSciences Corporation",
         "100000010950",
         "Integra LifeSciences Corporation",
         "NJ",
         "United States",
         "2500.00",
         "03/21/2023",
         "1",
         "Cash or cash equivalent",
         "Grant",
         null,
         null,
         null,
         "No",
         "No Third Party Payment",
         null,
         null,
         null,
         null,
         "No",
         "1031636885",
         "No",
         "Yes",
         "Covered",
         "Device",
         "Neuro Critical Care",
         "CODMAN CERTAS",
         null,
         "10381780529033",
         null,
         null,
         null,
         null,
         null,
         null,
         null,
         null,
         null,
         null,
         null,
         null,
         null,
         null,
         null,
         null,
         null,
         null,
         null,
         null,
         null,
         null,
         null,
         null,
         2023,
         "01/30/2025"
        ],
        [
         "CHANGED",
         "Covered Recipient Teaching Hospital",
         "220162",
         "9984",
         "St. Josephs Hospital & Medical Ctr",
         null,
         null,
         null,
         null,
         null,
         null,
         "4975 N Dysart Rd Ste 100",
         null,
         "Litchfield Park",
         "AZ",
         "85340",
         "United States",
         null,
         null,
         null,
         null,
         null,
         null,
         null,
         null,
         null,
         null,
         null,
         null,
         null,
         null,
         null,
         null,
         null,
         null,
         null,
         "Integra LifeSciences Corporation",
         "100000010950",
         "Integra LifeSciences Corporation",
         "NJ",
         "United States",
         "3000.00",
         "04/14/2023",
         "1",
         "Cash or cash equivalent",
         "Grant",
         null,
         null,
         null,
         "No",
         "No Third Party Payment",
         null,
         null,
         null,
         null,
         "No",
         "1031636889",
         "No",
         "Yes",
         "Covered",
         "Device",
         "Neuro Critical Care",
         "CODMAN CERTAS",
         null,
         "10381780529033",
         null,
         null,
         null,
         null,
         null,
         null,
         null,
         null,
         null,
         null,
         null,
         null,
         null,
         null,
         null,
         null,
         null,
         null,
         null,
         null,
         null,
         null,
         null,
         null,
         2023,
         "01/30/2025"
        ],
        [
         "CHANGED",
         "Covered Recipient Teaching Hospital",
         "220162",
         "9984",
         "Uc Davis Medical Center",
         null,
         null,
         null,
         null,
         null,
         null,
         "2315 Stockton Blvd",
         null,
         "Sacramento",
         "CA",
         "95817",
         "United States",
         null,
         null,
         null,
         null,
         null,
         null,
         null,
         null,
         null,
         null,
         null,
         null,
         null,
         null,
         null,
         null,
         null,
         null,
         null,
         "Integra LifeSciences Corporation",
         "100000010950",
         "Integra LifeSciences Corporation",
         "NJ",
         "United States",
         "3921.61",
         "04/30/2023",
         "1",
         "Cash or cash equivalent",
         "Honoraria",
         null,
         null,
         null,
         "No",
         "No Third Party Payment",
         null,
         null,
         null,
         null,
         "No",
         "1031636896",
         "No",
         "Yes",
         "Covered",
         "Device",
         "Neuro Critical Care",
         "CODMAN CERTAS",
         null,
         "10381780529033",
         "Covered",
         "Device",
         "Neuro Critical Care",
         "CUSA CLARITY",
         null,
         "10381780126232",
         null,
         null,
         null,
         null,
         null,
         null,
         null,
         null,
         null,
         null,
         null,
         null,
         null,
         null,
         null,
         null,
         null,
         null,
         2023,
         "01/30/2025"
        ]
       ],
       "datasetInfos": [],
       "dbfsResultPath": null,
       "isJsonSchema": true,
       "metadata": {},
       "overflow": false,
       "plotOptions": {
        "customPlotOptions": {},
        "displayType": "table",
        "pivotAggregation": null,
        "pivotColumns": null,
        "xColumns": null,
        "yColumns": null
       },
       "removedWidgets": [],
       "schema": [
        {
         "metadata": "{}",
         "name": "Change_Type",
         "type": "\"string\""
        },
        {
         "metadata": "{}",
         "name": "Covered_Recipient_Type",
         "type": "\"string\""
        },
        {
         "metadata": "{}",
         "name": "Teaching_Hospital_CCN",
         "type": "\"string\""
        },
        {
         "metadata": "{}",
         "name": "Teaching_Hospital_ID",
         "type": "\"string\""
        },
        {
         "metadata": "{}",
         "name": "Teaching_Hospital_Name",
         "type": "\"string\""
        },
        {
         "metadata": "{}",
         "name": "Covered_Recipient_Profile_ID",
         "type": "\"string\""
        },
        {
         "metadata": "{}",
         "name": "Covered_Recipient_NPI",
         "type": "\"string\""
        },
        {
         "metadata": "{}",
         "name": "Covered_Recipient_First_Name",
         "type": "\"string\""
        },
        {
         "metadata": "{}",
         "name": "Covered_Recipient_Middle_Name",
         "type": "\"string\""
        },
        {
         "metadata": "{}",
         "name": "Covered_Recipient_Last_Name",
         "type": "\"string\""
        },
        {
         "metadata": "{}",
         "name": "Covered_Recipient_Name_Suffix",
         "type": "\"string\""
        },
        {
         "metadata": "{}",
         "name": "Recipient_Primary_Business_Street_Address_Line1",
         "type": "\"string\""
        },
        {
         "metadata": "{}",
         "name": "Recipient_Primary_Business_Street_Address_Line2",
         "type": "\"string\""
        },
        {
         "metadata": "{}",
         "name": "Recipient_City",
         "type": "\"string\""
        },
        {
         "metadata": "{}",
         "name": "Recipient_State",
         "type": "\"string\""
        },
        {
         "metadata": "{}",
         "name": "Recipient_Zip_Code",
         "type": "\"string\""
        },
        {
         "metadata": "{}",
         "name": "Recipient_Country",
         "type": "\"string\""
        },
        {
         "metadata": "{}",
         "name": "Recipient_Province",
         "type": "\"string\""
        },
        {
         "metadata": "{}",
         "name": "Recipient_Postal_Code",
         "type": "\"string\""
        },
        {
         "metadata": "{}",
         "name": "Covered_Recipient_Primary_Type_1",
         "type": "\"string\""
        },
        {
         "metadata": "{}",
         "name": "Covered_Recipient_Primary_Type_2",
         "type": "\"string\""
        },
        {
         "metadata": "{}",
         "name": "Covered_Recipient_Primary_Type_3",
         "type": "\"string\""
        },
        {
         "metadata": "{}",
         "name": "Covered_Recipient_Primary_Type_4",
         "type": "\"string\""
        },
        {
         "metadata": "{}",
         "name": "Covered_Recipient_Primary_Type_5",
         "type": "\"string\""
        },
        {
         "metadata": "{}",
         "name": "Covered_Recipient_Primary_Type_6",
         "type": "\"string\""
        },
        {
         "metadata": "{}",
         "name": "Covered_Recipient_Specialty_1",
         "type": "\"string\""
        },
        {
         "metadata": "{}",
         "name": "Covered_Recipient_Specialty_2",
         "type": "\"string\""
        },
        {
         "metadata": "{}",
         "name": "Covered_Recipient_Specialty_3",
         "type": "\"string\""
        },
        {
         "metadata": "{}",
         "name": "Covered_Recipient_Specialty_4",
         "type": "\"string\""
        },
        {
         "metadata": "{}",
         "name": "Covered_Recipient_Specialty_5",
         "type": "\"string\""
        },
        {
         "metadata": "{}",
         "name": "Covered_Recipient_Specialty_6",
         "type": "\"string\""
        },
        {
         "metadata": "{}",
         "name": "Covered_Recipient_License_State_code1",
         "type": "\"string\""
        },
        {
         "metadata": "{}",
         "name": "Covered_Recipient_License_State_code2",
         "type": "\"string\""
        },
        {
         "metadata": "{}",
         "name": "Covered_Recipient_License_State_code3",
         "type": "\"string\""
        },
        {
         "metadata": "{}",
         "name": "Covered_Recipient_License_State_code4",
         "type": "\"string\""
        },
        {
         "metadata": "{}",
         "name": "Covered_Recipient_License_State_code5",
         "type": "\"string\""
        },
        {
         "metadata": "{}",
         "name": "Submitting_Applicable_Manufacturer_or_Applicable_GPO_Name",
         "type": "\"string\""
        },
        {
         "metadata": "{}",
         "name": "Applicable_Manufacturer_or_Applicable_GPO_Making_Payment_ID",
         "type": "\"string\""
        },
        {
         "metadata": "{}",
         "name": "Applicable_Manufacturer_or_Applicable_GPO_Making_Payment_Name",
         "type": "\"string\""
        },
        {
         "metadata": "{}",
         "name": "Applicable_Manufacturer_or_Applicable_GPO_Making_Payment_State",
         "type": "\"string\""
        },
        {
         "metadata": "{}",
         "name": "Applicable_Manufacturer_or_Applicable_GPO_Making_Payment_Country",
         "type": "\"string\""
        },
        {
         "metadata": "{}",
         "name": "Total_Amount_of_Payment_USDollars",
         "type": "\"string\""
        },
        {
         "metadata": "{}",
         "name": "Date_of_Payment",
         "type": "\"string\""
        },
        {
         "metadata": "{}",
         "name": "Number_of_Payments_Included_in_Total_Amount",
         "type": "\"string\""
        },
        {
         "metadata": "{}",
         "name": "Form_of_Payment_or_Transfer_of_Value",
         "type": "\"string\""
        },
        {
         "metadata": "{}",
         "name": "Nature_of_Payment_or_Transfer_of_Value",
         "type": "\"string\""
        },
        {
         "metadata": "{}",
         "name": "City_of_Travel",
         "type": "\"string\""
        },
        {
         "metadata": "{}",
         "name": "State_of_Travel",
         "type": "\"string\""
        },
        {
         "metadata": "{}",
         "name": "Country_of_Travel",
         "type": "\"string\""
        },
        {
         "metadata": "{}",
         "name": "Physician_Ownership_Indicator",
         "type": "\"string\""
        },
        {
         "metadata": "{}",
         "name": "Third_Party_Payment_Recipient_Indicator",
         "type": "\"string\""
        },
        {
         "metadata": "{}",
         "name": "Name_of_Third_Party_Entity_Receiving_Payment_or_Transfer_of_Value",
         "type": "\"string\""
        },
        {
         "metadata": "{}",
         "name": "Charity_Indicator",
         "type": "\"string\""
        },
        {
         "metadata": "{}",
         "name": "Third_Party_Equals_Covered_Recipient_Indicator",
         "type": "\"string\""
        },
        {
         "metadata": "{}",
         "name": "Contextual_Information",
         "type": "\"string\""
        },
        {
         "metadata": "{}",
         "name": "Delay_in_Publication_Indicator",
         "type": "\"string\""
        },
        {
         "metadata": "{}",
         "name": "Record_ID",
         "type": "\"string\""
        },
        {
         "metadata": "{}",
         "name": "Dispute_Status_for_Publication",
         "type": "\"string\""
        },
        {
         "metadata": "{}",
         "name": "Related_Product_Indicator",
         "type": "\"string\""
        },
        {
         "metadata": "{}",
         "name": "Covered_or_Noncovered_Indicator_1",
         "type": "\"string\""
        },
        {
         "metadata": "{}",
         "name": "Indicate_Drug_or_Biological_or_Device_or_Medical_Supply_1",
         "type": "\"string\""
        },
        {
         "metadata": "{}",
         "name": "Product_Category_or_Therapeutic_Area_1",
         "type": "\"string\""
        },
        {
         "metadata": "{}",
         "name": "Name_of_Drug_or_Biological_or_Device_or_Medical_Supply_1",
         "type": "\"string\""
        },
        {
         "metadata": "{}",
         "name": "Associated_Drug_or_Biological_NDC_1",
         "type": "\"string\""
        },
        {
         "metadata": "{}",
         "name": "Associated_Device_or_Medical_Supply_PDI_1",
         "type": "\"string\""
        },
        {
         "metadata": "{}",
         "name": "Covered_or_Noncovered_Indicator_2",
         "type": "\"string\""
        },
        {
         "metadata": "{}",
         "name": "Indicate_Drug_or_Biological_or_Device_or_Medical_Supply_2",
         "type": "\"string\""
        },
        {
         "metadata": "{}",
         "name": "Product_Category_or_Therapeutic_Area_2",
         "type": "\"string\""
        },
        {
         "metadata": "{}",
         "name": "Name_of_Drug_or_Biological_or_Device_or_Medical_Supply_2",
         "type": "\"string\""
        },
        {
         "metadata": "{}",
         "name": "Associated_Drug_or_Biological_NDC_2",
         "type": "\"string\""
        },
        {
         "metadata": "{}",
         "name": "Associated_Device_or_Medical_Supply_PDI_2",
         "type": "\"string\""
        },
        {
         "metadata": "{}",
         "name": "Covered_or_Noncovered_Indicator_3",
         "type": "\"string\""
        },
        {
         "metadata": "{}",
         "name": "Indicate_Drug_or_Biological_or_Device_or_Medical_Supply_3",
         "type": "\"string\""
        },
        {
         "metadata": "{}",
         "name": "Product_Category_or_Therapeutic_Area_3",
         "type": "\"string\""
        },
        {
         "metadata": "{}",
         "name": "Name_of_Drug_or_Biological_or_Device_or_Medical_Supply_3",
         "type": "\"string\""
        },
        {
         "metadata": "{}",
         "name": "Associated_Drug_or_Biological_NDC_3",
         "type": "\"string\""
        },
        {
         "metadata": "{}",
         "name": "Associated_Device_or_Medical_Supply_PDI_3",
         "type": "\"string\""
        },
        {
         "metadata": "{}",
         "name": "Covered_or_Noncovered_Indicator_4",
         "type": "\"string\""
        },
        {
         "metadata": "{}",
         "name": "Indicate_Drug_or_Biological_or_Device_or_Medical_Supply_4",
         "type": "\"string\""
        },
        {
         "metadata": "{}",
         "name": "Product_Category_or_Therapeutic_Area_4",
         "type": "\"string\""
        },
        {
         "metadata": "{}",
         "name": "Name_of_Drug_or_Biological_or_Device_or_Medical_Supply_4",
         "type": "\"string\""
        },
        {
         "metadata": "{}",
         "name": "Associated_Drug_or_Biological_NDC_4",
         "type": "\"string\""
        },
        {
         "metadata": "{}",
         "name": "Associated_Device_or_Medical_Supply_PDI_4",
         "type": "\"string\""
        },
        {
         "metadata": "{}",
         "name": "Covered_or_Noncovered_Indicator_5",
         "type": "\"string\""
        },
        {
         "metadata": "{}",
         "name": "Indicate_Drug_or_Biological_or_Device_or_Medical_Supply_5",
         "type": "\"string\""
        },
        {
         "metadata": "{}",
         "name": "Product_Category_or_Therapeutic_Area_5",
         "type": "\"string\""
        },
        {
         "metadata": "{}",
         "name": "Name_of_Drug_or_Biological_or_Device_or_Medical_Supply_5",
         "type": "\"string\""
        },
        {
         "metadata": "{}",
         "name": "Associated_Drug_or_Biological_NDC_5",
         "type": "\"string\""
        },
        {
         "metadata": "{}",
         "name": "Associated_Device_or_Medical_Supply_PDI_5",
         "type": "\"string\""
        },
        {
         "metadata": "{}",
         "name": "Program_Year",
         "type": "\"integer\""
        },
        {
         "metadata": "{}",
         "name": "Payment_Publication_Date",
         "type": "\"string\""
        }
       ],
       "type": "table"
      }
     },
     "output_type": "display_data"
    }
   ],
   "source": [
    "# File location and type\n",
    "file_location = \"dbfs:/FileStore/tables/OP_DTL_GNRL_PGYR2023_P01302025_01212025.csv\"\n",
    "file_type = \"csv\"\n",
    "\n",
    "# CSV options\n",
    "infer_schema = \"true\"\n",
    "first_row_is_header = \"true\"\n",
    "delimiter = \",\"\n",
    "\n",
    "# The applied options are for CSV files. For other file types, these will be ignored.\n",
    "df = spark.read.format(file_type) \\\n",
    "  .option(\"inferSchema\", infer_schema) \\\n",
    "  .option(\"header\", first_row_is_header) \\\n",
    "  .option(\"sep\", delimiter) \\\n",
    "  .load(file_location)\n",
    "\n",
    "display(df.limit(5))"
   ]
  },
  {
   "cell_type": "markdown",
   "metadata": {
    "application/vnd.databricks.v1+cell": {
     "cellMetadata": {},
     "inputWidgets": {},
     "nuid": "c41f92ba-80e7-43b3-94ad-f368ab48fed6",
     "showTitle": false,
     "tableResultSettingsMap": {},
     "title": ""
    }
   },
   "source": [
    "CMS Covered Recipient File (https://download.cms.gov/openpayments/PHPRFL_P01302025_01212025.zip)"
   ]
  },
  {
   "cell_type": "code",
   "execution_count": 0,
   "metadata": {
    "application/vnd.databricks.v1+cell": {
     "cellMetadata": {
      "byteLimit": 2048000,
      "rowLimit": 10000
     },
     "inputWidgets": {},
     "nuid": "e5cdb9fd-7b31-442b-a56c-e297ea0d6e8f",
     "showTitle": false,
     "tableResultSettingsMap": {},
     "title": ""
    }
   },
   "outputs": [
    {
     "output_type": "display_data",
     "data": {
      "text/html": [
       "<style scoped>\n",
       "  .table-result-container {\n",
       "    max-height: 300px;\n",
       "    overflow: auto;\n",
       "  }\n",
       "  table, th, td {\n",
       "    border: 1px solid black;\n",
       "    border-collapse: collapse;\n",
       "  }\n",
       "  th, td {\n",
       "    padding: 5px;\n",
       "  }\n",
       "  th {\n",
       "    text-align: left;\n",
       "  }\n",
       "</style><div class='table-result-container'><table class='table-result'><thead style='background-color: white'><tr><th>Covered_Recipient_Profile_Type</th><th>Covered_Recipient_Profile_ID</th><th>Associated_Covered_Recipient_Profile_ID_1</th><th>Associated_Covered_Recipient_Profile_ID_2</th><th>Covered_Recipient_NPI</th><th>Covered_Recipient_Profile_First_Name</th><th>Covered_Recipient_Profile_Middle_Name</th><th>Covered_Recipient_Profile_Last_Name</th><th>Covered_Recipient_Profile_Suffix</th><th>Covered_Recipient_Profile_Alternate_First_Name</th><th>Covered_Recipient_Profile_Alternate_Middle_Name</th><th>Covered_Recipient_Profile_Alternate_Last_Name</th><th>Covered_Recipient_Profile_Alternate_Suffix</th><th>Covered_Recipient_Profile_Address_Line_1</th><th>Covered_Recipient_Profile_Address_Line_2</th><th>Covered_Recipient_Profile_City</th><th>Covered_Recipient_Profile_State</th><th>Covered_Recipient_Profile_Zipcode</th><th>Covered_Recipient_Profile_Country_Name</th><th>Covered_Recipient_Profile_Province_Name</th><th>Covered_Recipient_Profile_Primary_Specialty</th><th>Covered_Recipient_Profile_OPS_Taxonomy_1</th><th>Covered_Recipient_Profile_OPS_Taxonomy_2</th><th>Covered_Recipient_Profile_OPS_Taxonomy_3</th><th>Covered_Recipient_Profile_OPS_Taxonomy_4</th><th>Covered_Recipient_Profile_OPS_Taxonomy_5</th><th>Covered_Recipient_Profile_OPS_Taxonomy_6</th><th>Covered_Recipient_Profile_License_State_Code_1</th><th>Covered_Recipient_Profile_License_State_Code_2</th><th>Covered_Recipient_Profile_License_State_Code_3</th><th>Covered_Recipient_Profile_License_State_Code_4</th><th>Covered_Recipient_Profile_License_State_Code_5</th></tr></thead><tbody><tr><td>Covered Recipient Physician</td><td>1</td><td>null</td><td>null</td><td>1003020595</td><td>BARRY</td><td>D</td><td>SIMMONS</td><td>null</td><td>BARRON</td><td>DAVID</td><td>SIMMONS</td><td>null</td><td>847 SOUTH MILLEDGE AVE</td><td>null</td><td>ATHENS</td><td>GA</td><td>30605-1331</td><td>UNITED STATES</td><td>null</td><td>Dental Providers|Dentist|General Practice</td><td>1223G0001X</td><td>null</td><td>null</td><td>null</td><td>null</td><td>null</td><td>GA</td><td>null</td><td>null</td><td>null</td><td>null</td></tr><tr><td>Covered Recipient Physician</td><td>2</td><td>null</td><td>null</td><td>1003022823</td><td>LINDSEY</td><td>R</td><td>SCHUSTER</td><td>null</td><td>LINDSEY</td><td>R</td><td>GROBER</td><td>null</td><td>15 HEIDI LN</td><td>null</td><td>MOUNT SINAI</td><td>NY</td><td>11766-1428</td><td>UNITED STATES</td><td>null</td><td>Allopathic & Osteopathic Physicians|Emergency Medicine</td><td>207P00000X</td><td>null</td><td>null</td><td>null</td><td>null</td><td>null</td><td>NY</td><td>PA</td><td>null</td><td>null</td><td>null</td></tr><tr><td>Covered Recipient Physician</td><td>3</td><td>null</td><td>null</td><td>1003023359</td><td>JUSTIN</td><td>H</td><td>RACKLEY</td><td>null</td><td>JUSTIN</td><td>HAMWAY</td><td>RACKLEY</td><td>null</td><td>1001 SAM PERRY BLVD</td><td>null</td><td>FREDERICKSBURG</td><td>VA</td><td>22401-4453</td><td>UNITED STATES</td><td>null</td><td>Allopathic & Osteopathic Physicians|Anesthesiology</td><td>207L00000X</td><td>null</td><td>null</td><td>null</td><td>null</td><td>null</td><td>VA</td><td>OH</td><td>null</td><td>null</td><td>null</td></tr><tr><td>Covered Recipient Physician</td><td>4</td><td>null</td><td>null</td><td>1003024811</td><td>LISA</td><td>L</td><td>HAMAKER</td><td>null</td><td>null</td><td>null</td><td>null</td><td>null</td><td>100 MARKET ST STE 300</td><td>null</td><td>COLLEGEVILLE</td><td>PA</td><td>19426-4927</td><td>UNITED STATES</td><td>null</td><td>Allopathic & Osteopathic Physicians|Internal Medicine|Endocrinology, Diabetes & Metabolism</td><td>207RE0101X</td><td>null</td><td>null</td><td>null</td><td>null</td><td>null</td><td>PA</td><td>null</td><td>null</td><td>null</td><td>null</td></tr><tr><td>Covered Recipient Physician</td><td>5</td><td>null</td><td>null</td><td>1003025875</td><td>PATRICK</td><td>E</td><td>DAVOL</td><td>null</td><td>PATRICK</td><td>ERIN</td><td>DAVOL</td><td>null</td><td>1698 E MCANDREWS RD STE 280</td><td>null</td><td>MEDFORD</td><td>OR</td><td>97504-5590</td><td>UNITED STATES</td><td>null</td><td>Allopathic & Osteopathic Physicians|Urology</td><td>208800000X</td><td>null</td><td>null</td><td>null</td><td>null</td><td>null</td><td>OR</td><td>IN</td><td>null</td><td>null</td><td>null</td></tr></tbody></table></div>"
      ]
     },
     "metadata": {
      "application/vnd.databricks.v1+output": {
       "addedWidgets": {},
       "aggData": [],
       "aggError": "",
       "aggOverflow": false,
       "aggSchema": [],
       "aggSeriesLimitReached": false,
       "aggType": "",
       "arguments": {},
       "columnCustomDisplayInfos": {},
       "data": [
        [
         "Covered Recipient Physician",
         1,
         null,
         null,
         1003020595,
         "BARRY",
         "D",
         "SIMMONS",
         null,
         "BARRON",
         "DAVID",
         "SIMMONS",
         null,
         "847 SOUTH MILLEDGE AVE",
         null,
         "ATHENS",
         "GA",
         "30605-1331",
         "UNITED STATES",
         null,
         "Dental Providers|Dentist|General Practice",
         "1223G0001X",
         null,
         null,
         null,
         null,
         null,
         "GA",
         null,
         null,
         null,
         null
        ],
        [
         "Covered Recipient Physician",
         2,
         null,
         null,
         1003022823,
         "LINDSEY",
         "R",
         "SCHUSTER",
         null,
         "LINDSEY",
         "R",
         "GROBER",
         null,
         "15 HEIDI LN",
         null,
         "MOUNT SINAI",
         "NY",
         "11766-1428",
         "UNITED STATES",
         null,
         "Allopathic & Osteopathic Physicians|Emergency Medicine",
         "207P00000X",
         null,
         null,
         null,
         null,
         null,
         "NY",
         "PA",
         null,
         null,
         null
        ],
        [
         "Covered Recipient Physician",
         3,
         null,
         null,
         1003023359,
         "JUSTIN",
         "H",
         "RACKLEY",
         null,
         "JUSTIN",
         "HAMWAY",
         "RACKLEY",
         null,
         "1001 SAM PERRY BLVD",
         null,
         "FREDERICKSBURG",
         "VA",
         "22401-4453",
         "UNITED STATES",
         null,
         "Allopathic & Osteopathic Physicians|Anesthesiology",
         "207L00000X",
         null,
         null,
         null,
         null,
         null,
         "VA",
         "OH",
         null,
         null,
         null
        ],
        [
         "Covered Recipient Physician",
         4,
         null,
         null,
         1003024811,
         "LISA",
         "L",
         "HAMAKER",
         null,
         null,
         null,
         null,
         null,
         "100 MARKET ST STE 300",
         null,
         "COLLEGEVILLE",
         "PA",
         "19426-4927",
         "UNITED STATES",
         null,
         "Allopathic & Osteopathic Physicians|Internal Medicine|Endocrinology, Diabetes & Metabolism",
         "207RE0101X",
         null,
         null,
         null,
         null,
         null,
         "PA",
         null,
         null,
         null,
         null
        ],
        [
         "Covered Recipient Physician",
         5,
         null,
         null,
         1003025875,
         "PATRICK",
         "E",
         "DAVOL",
         null,
         "PATRICK",
         "ERIN",
         "DAVOL",
         null,
         "1698 E MCANDREWS RD STE 280",
         null,
         "MEDFORD",
         "OR",
         "97504-5590",
         "UNITED STATES",
         null,
         "Allopathic & Osteopathic Physicians|Urology",
         "208800000X",
         null,
         null,
         null,
         null,
         null,
         "OR",
         "IN",
         null,
         null,
         null
        ]
       ],
       "datasetInfos": [],
       "dbfsResultPath": null,
       "isJsonSchema": true,
       "metadata": {},
       "overflow": false,
       "plotOptions": {
        "customPlotOptions": {},
        "displayType": "table",
        "pivotAggregation": null,
        "pivotColumns": null,
        "xColumns": null,
        "yColumns": null
       },
       "removedWidgets": [],
       "schema": [
        {
         "metadata": "{}",
         "name": "Covered_Recipient_Profile_Type",
         "type": "\"string\""
        },
        {
         "metadata": "{}",
         "name": "Covered_Recipient_Profile_ID",
         "type": "\"integer\""
        },
        {
         "metadata": "{}",
         "name": "Associated_Covered_Recipient_Profile_ID_1",
         "type": "\"string\""
        },
        {
         "metadata": "{}",
         "name": "Associated_Covered_Recipient_Profile_ID_2",
         "type": "\"string\""
        },
        {
         "metadata": "{}",
         "name": "Covered_Recipient_NPI",
         "type": "\"integer\""
        },
        {
         "metadata": "{}",
         "name": "Covered_Recipient_Profile_First_Name",
         "type": "\"string\""
        },
        {
         "metadata": "{}",
         "name": "Covered_Recipient_Profile_Middle_Name",
         "type": "\"string\""
        },
        {
         "metadata": "{}",
         "name": "Covered_Recipient_Profile_Last_Name",
         "type": "\"string\""
        },
        {
         "metadata": "{}",
         "name": "Covered_Recipient_Profile_Suffix",
         "type": "\"string\""
        },
        {
         "metadata": "{}",
         "name": "Covered_Recipient_Profile_Alternate_First_Name",
         "type": "\"string\""
        },
        {
         "metadata": "{}",
         "name": "Covered_Recipient_Profile_Alternate_Middle_Name",
         "type": "\"string\""
        },
        {
         "metadata": "{}",
         "name": "Covered_Recipient_Profile_Alternate_Last_Name",
         "type": "\"string\""
        },
        {
         "metadata": "{}",
         "name": "Covered_Recipient_Profile_Alternate_Suffix",
         "type": "\"string\""
        },
        {
         "metadata": "{}",
         "name": "Covered_Recipient_Profile_Address_Line_1",
         "type": "\"string\""
        },
        {
         "metadata": "{}",
         "name": "Covered_Recipient_Profile_Address_Line_2",
         "type": "\"string\""
        },
        {
         "metadata": "{}",
         "name": "Covered_Recipient_Profile_City",
         "type": "\"string\""
        },
        {
         "metadata": "{}",
         "name": "Covered_Recipient_Profile_State",
         "type": "\"string\""
        },
        {
         "metadata": "{}",
         "name": "Covered_Recipient_Profile_Zipcode",
         "type": "\"string\""
        },
        {
         "metadata": "{}",
         "name": "Covered_Recipient_Profile_Country_Name",
         "type": "\"string\""
        },
        {
         "metadata": "{}",
         "name": "Covered_Recipient_Profile_Province_Name",
         "type": "\"string\""
        },
        {
         "metadata": "{}",
         "name": "Covered_Recipient_Profile_Primary_Specialty",
         "type": "\"string\""
        },
        {
         "metadata": "{}",
         "name": "Covered_Recipient_Profile_OPS_Taxonomy_1",
         "type": "\"string\""
        },
        {
         "metadata": "{}",
         "name": "Covered_Recipient_Profile_OPS_Taxonomy_2",
         "type": "\"string\""
        },
        {
         "metadata": "{}",
         "name": "Covered_Recipient_Profile_OPS_Taxonomy_3",
         "type": "\"string\""
        },
        {
         "metadata": "{}",
         "name": "Covered_Recipient_Profile_OPS_Taxonomy_4",
         "type": "\"string\""
        },
        {
         "metadata": "{}",
         "name": "Covered_Recipient_Profile_OPS_Taxonomy_5",
         "type": "\"string\""
        },
        {
         "metadata": "{}",
         "name": "Covered_Recipient_Profile_OPS_Taxonomy_6",
         "type": "\"string\""
        },
        {
         "metadata": "{}",
         "name": "Covered_Recipient_Profile_License_State_Code_1",
         "type": "\"string\""
        },
        {
         "metadata": "{}",
         "name": "Covered_Recipient_Profile_License_State_Code_2",
         "type": "\"string\""
        },
        {
         "metadata": "{}",
         "name": "Covered_Recipient_Profile_License_State_Code_3",
         "type": "\"string\""
        },
        {
         "metadata": "{}",
         "name": "Covered_Recipient_Profile_License_State_Code_4",
         "type": "\"string\""
        },
        {
         "metadata": "{}",
         "name": "Covered_Recipient_Profile_License_State_Code_5",
         "type": "\"string\""
        }
       ],
       "type": "table"
      }
     },
     "output_type": "display_data"
    }
   ],
   "source": [
    "# File location and type\n",
    "file_location = \"/FileStore/tables/OP_CVRD_RCPNT_PRFL_SPLMTL_P01302025_01212025.csv\"\n",
    "file_type = \"csv\"\n",
    "\n",
    "# CSV options\n",
    "infer_schema = \"true\"\n",
    "first_row_is_header = \"true\"\n",
    "delimiter = \",\"\n",
    "\n",
    "# The applied options are for CSV files. For other file types, these will be ignored.\n",
    "OP_CVRD_df = spark.read.format(file_type) \\\n",
    "  .option(\"inferSchema\", infer_schema) \\\n",
    "  .option(\"header\", first_row_is_header) \\\n",
    "  .option(\"sep\", delimiter) \\\n",
    "  .load(file_location)\n",
    "\n",
    "display(OP_CVRD_df.limit(5))"
   ]
  },
  {
   "cell_type": "markdown",
   "metadata": {
    "application/vnd.databricks.v1+cell": {
     "cellMetadata": {},
     "inputWidgets": {},
     "nuid": "f92d9abc-00fe-4b7d-9ee6-5543486a0250",
     "showTitle": false,
     "tableResultSettingsMap": {},
     "title": ""
    }
   },
   "source": [
    "**1. What is the Nature of Payments with reimbursement amounts greater than $1,000 ordered by count?**"
   ]
  },
  {
   "cell_type": "code",
   "execution_count": 0,
   "metadata": {
    "application/vnd.databricks.v1+cell": {
     "cellMetadata": {
      "byteLimit": 2048000,
      "rowLimit": 10000
     },
     "inputWidgets": {},
     "nuid": "b3d2972e-b085-471a-92a5-4243efd7632a",
     "showTitle": false,
     "tableResultSettingsMap": {},
     "title": ""
    }
   },
   "outputs": [
    {
     "output_type": "display_data",
     "data": {
      "text/html": [
       "<style scoped>\n",
       "  .table-result-container {\n",
       "    max-height: 300px;\n",
       "    overflow: auto;\n",
       "  }\n",
       "  table, th, td {\n",
       "    border: 1px solid black;\n",
       "    border-collapse: collapse;\n",
       "  }\n",
       "  th, td {\n",
       "    padding: 5px;\n",
       "  }\n",
       "  th {\n",
       "    text-align: left;\n",
       "  }\n",
       "</style><div class='table-result-container'><table class='table-result'><thead style='background-color: white'><tr><th>Nature_of_Payment_or_Transfer_of_Value</th><th>count</th></tr></thead><tbody><tr><td>Compensation for services other than consulting, including serving as faculty or as a speaker at a venue other than a continuing education program</td><td>164092</td></tr><tr><td>Consulting Fee</td><td>105228</td></tr><tr><td>Travel and Lodging</td><td>24738</td></tr><tr><td>Honoraria</td><td>13750</td></tr><tr><td>Education</td><td>13376</td></tr><tr><td>Royalty or License</td><td>11534</td></tr><tr><td>Compensation for serving as faculty or as a speaker for a medical education program</td><td>8658</td></tr><tr><td>Grant</td><td>4922</td></tr><tr><td>Space rental or facility fees (teaching hospital only)</td><td>4917</td></tr><tr><td>Long term medical supply or device loan</td><td>2930</td></tr><tr><td>Debt forgiveness</td><td>1787</td></tr><tr><td>Food and Beverage</td><td>966</td></tr><tr><td>Gift</td><td>630</td></tr><tr><td>Acquisitions</td><td>562</td></tr><tr><td>Charitable Contribution</td><td>239</td></tr><tr><td>Entertainment</td><td>30</td></tr></tbody></table></div>"
      ]
     },
     "metadata": {
      "application/vnd.databricks.v1+output": {
       "addedWidgets": {},
       "aggData": [],
       "aggError": "",
       "aggOverflow": false,
       "aggSchema": [],
       "aggSeriesLimitReached": false,
       "aggType": "",
       "arguments": {},
       "columnCustomDisplayInfos": {},
       "data": [
        [
         "Compensation for services other than consulting, including serving as faculty or as a speaker at a venue other than a continuing education program",
         164092
        ],
        [
         "Consulting Fee",
         105228
        ],
        [
         "Travel and Lodging",
         24738
        ],
        [
         "Honoraria",
         13750
        ],
        [
         "Education",
         13376
        ],
        [
         "Royalty or License",
         11534
        ],
        [
         "Compensation for serving as faculty or as a speaker for a medical education program",
         8658
        ],
        [
         "Grant",
         4922
        ],
        [
         "Space rental or facility fees (teaching hospital only)",
         4917
        ],
        [
         "Long term medical supply or device loan",
         2930
        ],
        [
         "Debt forgiveness",
         1787
        ],
        [
         "Food and Beverage",
         966
        ],
        [
         "Gift",
         630
        ],
        [
         "Acquisitions",
         562
        ],
        [
         "Charitable Contribution",
         239
        ],
        [
         "Entertainment",
         30
        ]
       ],
       "datasetInfos": [],
       "dbfsResultPath": null,
       "isJsonSchema": true,
       "metadata": {},
       "overflow": false,
       "plotOptions": {
        "customPlotOptions": {},
        "displayType": "table",
        "pivotAggregation": null,
        "pivotColumns": null,
        "xColumns": null,
        "yColumns": null
       },
       "removedWidgets": [],
       "schema": [
        {
         "metadata": "{}",
         "name": "Nature_of_Payment_or_Transfer_of_Value",
         "type": "\"string\""
        },
        {
         "metadata": "{}",
         "name": "count",
         "type": "\"long\""
        }
       ],
       "type": "table"
      }
     },
     "output_type": "display_data"
    }
   ],
   "source": [
    "df = df.withColumn(\"Total_Amount_of_Payment_USDollars\", col(\"Total_Amount_of_Payment_USDollars\").cast(IntegerType()))\n",
    "high_reimbursement_df = df.filter(col(\"Total_Amount_of_Payment_USDollars\") > 1000)\n",
    "payments_df = high_reimbursement_df.groupBy(\"Nature_of_Payment_or_Transfer_of_Value\") \\\n",
    "    .count() \\\n",
    "    .orderBy(desc(\"count\"))\n",
    "    \n",
    "display(payments_df)"
   ]
  },
  {
   "cell_type": "markdown",
   "metadata": {
    "application/vnd.databricks.v1+cell": {
     "cellMetadata": {},
     "inputWidgets": {},
     "nuid": "9e0b4d20-6841-4800-8e1e-e84abe30c5e5",
     "showTitle": false,
     "tableResultSettingsMap": {},
     "title": ""
    }
   },
   "source": [
    "**Interpretation:** This analysis examines high-value reimbursement payments made to healthcare providers. It first casts the Total_Amount_of_Payment_USDollars column to an integer type and filters for payments exceeding $1,000. The dataset is then grouped by Nature_of_Payment_or_Transfer_of_Value, counting occurrences of each payment type and ordering the results in descending order of count. The output reveals that the most frequent high-value payment category is \"Compensation for services other than consulting, including serving as faculty or as a speaker\" (164,092 instances), followed by \"Consulting Fees\" (105,228 instances) and \"Travel and Lodging\" (24,738 instances). Other notable categories include \"Honoraria,\" \"Education,\" and \"Royalty or License\" payments. Less common payment types, such as \"Food and Beverage\" and \"Gift,\" appear less frequently, likely because they involve smaller transactions that do not meet the $1,000 threshold."
   ]
  },
  {
   "cell_type": "markdown",
   "metadata": {
    "application/vnd.databricks.v1+cell": {
     "cellMetadata": {},
     "inputWidgets": {},
     "nuid": "91abb632-4314-4608-93ce-5513cfdf48e9",
     "showTitle": false,
     "tableResultSettingsMap": {},
     "title": ""
    }
   },
   "source": [
    "**2. What are the top ten Nature of Payments by count?**"
   ]
  },
  {
   "cell_type": "code",
   "execution_count": 0,
   "metadata": {
    "application/vnd.databricks.v1+cell": {
     "cellMetadata": {
      "byteLimit": 2048000,
      "rowLimit": 10000
     },
     "inputWidgets": {},
     "nuid": "cb91e33c-1514-417b-b1d2-615dad7f1157",
     "showTitle": false,
     "tableResultSettingsMap": {},
     "title": ""
    }
   },
   "outputs": [
    {
     "output_type": "display_data",
     "data": {
      "text/html": [
       "<style scoped>\n",
       "  .table-result-container {\n",
       "    max-height: 300px;\n",
       "    overflow: auto;\n",
       "  }\n",
       "  table, th, td {\n",
       "    border: 1px solid black;\n",
       "    border-collapse: collapse;\n",
       "  }\n",
       "  th, td {\n",
       "    padding: 5px;\n",
       "  }\n",
       "  th {\n",
       "    text-align: left;\n",
       "  }\n",
       "</style><div class='table-result-container'><table class='table-result'><thead style='background-color: white'><tr><th>Nature_of_Payment_or_Transfer_of_Value</th><th>count</th></tr></thead><tbody><tr><td>Food and Beverage</td><td>13378464</td></tr><tr><td>Travel and Lodging</td><td>545086</td></tr><tr><td>Compensation for services other than consulting, including serving as faculty or as a speaker at a venue other than a continuing education program</td><td>236628</td></tr><tr><td>Consulting Fee</td><td>170630</td></tr><tr><td>Education</td><td>161078</td></tr><tr><td>Gift</td><td>31786</td></tr><tr><td>Honoraria</td><td>20232</td></tr><tr><td>Royalty or License</td><td>15865</td></tr><tr><td>Compensation for serving as faculty or as a speaker for a medical education program</td><td>12234</td></tr><tr><td>Entertainment</td><td>7967</td></tr></tbody></table></div>"
      ]
     },
     "metadata": {
      "application/vnd.databricks.v1+output": {
       "addedWidgets": {},
       "aggData": [],
       "aggError": "",
       "aggOverflow": false,
       "aggSchema": [],
       "aggSeriesLimitReached": false,
       "aggType": "",
       "arguments": {},
       "columnCustomDisplayInfos": {},
       "data": [
        [
         "Food and Beverage",
         13378464
        ],
        [
         "Travel and Lodging",
         545086
        ],
        [
         "Compensation for services other than consulting, including serving as faculty or as a speaker at a venue other than a continuing education program",
         236628
        ],
        [
         "Consulting Fee",
         170630
        ],
        [
         "Education",
         161078
        ],
        [
         "Gift",
         31786
        ],
        [
         "Honoraria",
         20232
        ],
        [
         "Royalty or License",
         15865
        ],
        [
         "Compensation for serving as faculty or as a speaker for a medical education program",
         12234
        ],
        [
         "Entertainment",
         7967
        ]
       ],
       "datasetInfos": [],
       "dbfsResultPath": null,
       "isJsonSchema": true,
       "metadata": {},
       "overflow": false,
       "plotOptions": {
        "customPlotOptions": {},
        "displayType": "table",
        "pivotAggregation": null,
        "pivotColumns": null,
        "xColumns": null,
        "yColumns": null
       },
       "removedWidgets": [],
       "schema": [
        {
         "metadata": "{}",
         "name": "Nature_of_Payment_or_Transfer_of_Value",
         "type": "\"string\""
        },
        {
         "metadata": "{}",
         "name": "count",
         "type": "\"long\""
        }
       ],
       "type": "table"
      }
     },
     "output_type": "display_data"
    }
   ],
   "source": [
    "data = df.dropna(subset=[\"Nature_of_Payment_or_Transfer_of_Value\"])\n",
    "\n",
    "top_payments_df = data.groupBy(\"Nature_of_Payment_or_Transfer_of_Value\") \\\n",
    "    .count() \\\n",
    "    .orderBy(desc(\"count\"))\\\n",
    "    .limit(10)\n",
    "\n",
    "display(top_payments_df)"
   ]
  },
  {
   "cell_type": "markdown",
   "metadata": {
    "application/vnd.databricks.v1+cell": {
     "cellMetadata": {},
     "inputWidgets": {},
     "nuid": "ee8e3d51-bd54-42a3-a57c-09be8a37b977",
     "showTitle": false,
     "tableResultSettingsMap": {},
     "title": ""
    }
   },
   "source": [
    "**Interpretation:** This analysis examines the most common types of payments made to healthcare providers by grouping and counting the occurrences of each \"Nature_of_Payment_or_Transfer_of_Value\" category. The dataset is then grouped by payment type, and the number of instances for each type is counted. The results are ordered in descending order based on count. The output shows that \"Food and Beverage\" is the most frequent category, with over 13.3 million transactions, followed by \"Travel and Lodging\" (545,086 transactions). This suggests that companies frequently cover meal and travel expenses for healthcare providers. Other notable payment categories include \"Compensation for services other than consulting\" (236,628 instances) and \"Consulting Fees\" (170,630 instances), highlighting direct financial interactions. \"Education,\" \"Gifts,\" and \"Honoraria\" are also significant but less frequent. The presence of \"Entertainment\" (7,967 instances) suggests that some payments involve leisure-related activities."
   ]
  },
  {
   "cell_type": "markdown",
   "metadata": {
    "application/vnd.databricks.v1+cell": {
     "cellMetadata": {},
     "inputWidgets": {},
     "nuid": "afdf5f4a-517b-4259-8aa2-20f2ef7facb4",
     "showTitle": false,
     "tableResultSettingsMap": {},
     "title": ""
    }
   },
   "source": [
    "**3. What are the top ten Nature of Payments by total amount?**"
   ]
  },
  {
   "cell_type": "code",
   "execution_count": 0,
   "metadata": {
    "application/vnd.databricks.v1+cell": {
     "cellMetadata": {
      "byteLimit": 2048000,
      "rowLimit": 10000
     },
     "inputWidgets": {},
     "nuid": "a51083ba-414c-4863-b390-ac7fd3d005f0",
     "showTitle": false,
     "tableResultSettingsMap": {},
     "title": ""
    }
   },
   "outputs": [
    {
     "output_type": "display_data",
     "data": {
      "text/html": [
       "<style scoped>\n",
       "  .table-result-container {\n",
       "    max-height: 300px;\n",
       "    overflow: auto;\n",
       "  }\n",
       "  table, th, td {\n",
       "    border: 1px solid black;\n",
       "    border-collapse: collapse;\n",
       "  }\n",
       "  th, td {\n",
       "    padding: 5px;\n",
       "  }\n",
       "  th {\n",
       "    text-align: left;\n",
       "  }\n",
       "</style><div class='table-result-container'><table class='table-result'><thead style='background-color: white'><tr><th>Nature_of_Payment_or_Transfer_of_Value</th><th>Total amount($)</th></tr></thead><tbody><tr><td>Royalty or License</td><td>1192167666</td></tr><tr><td>Compensation for services other than consulting, including serving as faculty or as a speaker at a venue other than a continuing education program</td><td>594620402</td></tr><tr><td>Consulting Fee</td><td>514840970</td></tr><tr><td>Food and Beverage</td><td>367908867</td></tr><tr><td>Travel and Lodging</td><td>179315496</td></tr><tr><td>Grant</td><td>111887837</td></tr><tr><td>Acquisitions</td><td>71925477</td></tr><tr><td>Education</td><td>64629090</td></tr><tr><td>Honoraria</td><td>55850335</td></tr><tr><td>Long term medical supply or device loan</td><td>30095899</td></tr></tbody></table></div>"
      ]
     },
     "metadata": {
      "application/vnd.databricks.v1+output": {
       "addedWidgets": {},
       "aggData": [],
       "aggError": "",
       "aggOverflow": false,
       "aggSchema": [],
       "aggSeriesLimitReached": false,
       "aggType": "",
       "arguments": {},
       "columnCustomDisplayInfos": {},
       "data": [
        [
         "Royalty or License",
         1192167666
        ],
        [
         "Compensation for services other than consulting, including serving as faculty or as a speaker at a venue other than a continuing education program",
         594620402
        ],
        [
         "Consulting Fee",
         514840970
        ],
        [
         "Food and Beverage",
         367908867
        ],
        [
         "Travel and Lodging",
         179315496
        ],
        [
         "Grant",
         111887837
        ],
        [
         "Acquisitions",
         71925477
        ],
        [
         "Education",
         64629090
        ],
        [
         "Honoraria",
         55850335
        ],
        [
         "Long term medical supply or device loan",
         30095899
        ]
       ],
       "datasetInfos": [],
       "dbfsResultPath": null,
       "isJsonSchema": true,
       "metadata": {},
       "overflow": false,
       "plotOptions": {
        "customPlotOptions": {},
        "displayType": "table",
        "pivotAggregation": null,
        "pivotColumns": null,
        "xColumns": null,
        "yColumns": null
       },
       "removedWidgets": [],
       "schema": [
        {
         "metadata": "{}",
         "name": "Nature_of_Payment_or_Transfer_of_Value",
         "type": "\"string\""
        },
        {
         "metadata": "{}",
         "name": "Total amount($)",
         "type": "\"long\""
        }
       ],
       "type": "table"
      }
     },
     "output_type": "display_data"
    }
   ],
   "source": [
    "data_df = df.dropna(subset=[\"Nature_of_Payment_or_Transfer_of_Value\"])\n",
    "\n",
    "payment_amount_df = data_df.groupBy(\"Nature_of_Payment_or_Transfer_of_Value\") \\\n",
    "    .agg(sum(\"Total_Amount_of_Payment_USDollars\").alias(\"Total amount($)\")) \\\n",
    "    .orderBy(desc(\"Total amount($)\"))\\\n",
    "    .limit(10)\n",
    "\n",
    "display(payment_amount_df)"
   ]
  },
  {
   "cell_type": "markdown",
   "metadata": {
    "application/vnd.databricks.v1+cell": {
     "cellMetadata": {},
     "inputWidgets": {},
     "nuid": "3944e945-f8ca-41f3-b1fa-7c0781ffa11a",
     "showTitle": false,
     "tableResultSettingsMap": {},
     "title": ""
    }
   },
   "source": [
    "**Interpretation:** This analysis examines the total dollar amount of payments made to healthcare providers across different \"Nature_of_Payment_or_Transfer_of_Value\" categories. The dataset is then grouped by payment type, and the total amount paid for each category is calculated using the .agg(sum(...)) function. The results are sorted in descending order by total payment amount. The output reveals that \"Royalty or License\" payments account for the largest total amount, exceeding 1.19 billion dollars, indicating significant financial transactions related to intellectual property. \"Compensation for services other than consulting\" (594.6 million dollars) and \"Consulting Fees\" (514.8 million dollars) also represent substantial payments, highlighting direct financial incentives for physicians. Interestingly, \"Food and Beverage\" transactions, which were the most frequent in the previous analysis, rank fourth in total amount (367.9 million dollars), suggesting that while these transactions are common, they typically involve smaller dollar values. Other notable payment categories include \"Travel and Lodging\" (179.3 million dollars), \"Grants\" ($111.9 million), and \"Acquisitions\" ($71.9 million)."
   ]
  },
  {
   "cell_type": "markdown",
   "metadata": {
    "application/vnd.databricks.v1+cell": {
     "cellMetadata": {},
     "inputWidgets": {},
     "nuid": "ba923c2a-24d6-4815-9f79-190b0f321aba",
     "showTitle": false,
     "tableResultSettingsMap": {},
     "title": ""
    }
   },
   "source": [
    "**4. What are the top ten physician specialties by total amount?**"
   ]
  },
  {
   "cell_type": "code",
   "execution_count": 0,
   "metadata": {
    "application/vnd.databricks.v1+cell": {
     "cellMetadata": {
      "byteLimit": 2048000,
      "rowLimit": 10000
     },
     "inputWidgets": {},
     "nuid": "f87261b2-b516-480b-813c-ab9a1febca45",
     "showTitle": false,
     "tableResultSettingsMap": {},
     "title": ""
    }
   },
   "outputs": [
    {
     "output_type": "display_data",
     "data": {
      "text/html": [
       "<style scoped>\n",
       "  .table-result-container {\n",
       "    max-height: 300px;\n",
       "    overflow: auto;\n",
       "  }\n",
       "  table, th, td {\n",
       "    border: 1px solid black;\n",
       "    border-collapse: collapse;\n",
       "  }\n",
       "  th, td {\n",
       "    padding: 5px;\n",
       "  }\n",
       "  th {\n",
       "    text-align: left;\n",
       "  }\n",
       "</style><div class='table-result-container'><table class='table-result'><thead style='background-color: white'><tr><th>Covered_Recipient_Specialty_1</th><th>Total amount($)</th></tr></thead><tbody><tr><td>Allopathic & Osteopathic Physicians|Orthopaedic Surgery</td><td>403450213</td></tr><tr><td>Allopathic & Osteopathic Physicians|Internal Medicine</td><td>131363003</td></tr><tr><td>Allopathic & Osteopathic Physicians|Psychiatry & Neurology|Neurology</td><td>89792136</td></tr><tr><td>Allopathic & Osteopathic Physicians|Neurological Surgery</td><td>86088478</td></tr><tr><td>Allopathic & Osteopathic Physicians|Dermatology</td><td>83202647</td></tr><tr><td>Allopathic & Osteopathic Physicians|Internal Medicine|Cardiovascular Disease</td><td>70220841</td></tr><tr><td>Allopathic & Osteopathic Physicians|Internal Medicine|Hematology & Oncology</td><td>69468941</td></tr><tr><td>Allopathic & Osteopathic Physicians|Orthopaedic Surgery|Adult Reconstructive Orthopaedic Surgery</td><td>66772837</td></tr><tr><td>Allopathic & Osteopathic Physicians|Psychiatry & Neurology|Psychiatry</td><td>63298254</td></tr><tr><td>Allopathic & Osteopathic Physicians|Surgery</td><td>62493627</td></tr></tbody></table></div>"
      ]
     },
     "metadata": {
      "application/vnd.databricks.v1+output": {
       "addedWidgets": {},
       "aggData": [],
       "aggError": "",
       "aggOverflow": false,
       "aggSchema": [],
       "aggSeriesLimitReached": false,
       "aggType": "",
       "arguments": {},
       "columnCustomDisplayInfos": {},
       "data": [
        [
         "Allopathic & Osteopathic Physicians|Orthopaedic Surgery",
         403450213
        ],
        [
         "Allopathic & Osteopathic Physicians|Internal Medicine",
         131363003
        ],
        [
         "Allopathic & Osteopathic Physicians|Psychiatry & Neurology|Neurology",
         89792136
        ],
        [
         "Allopathic & Osteopathic Physicians|Neurological Surgery",
         86088478
        ],
        [
         "Allopathic & Osteopathic Physicians|Dermatology",
         83202647
        ],
        [
         "Allopathic & Osteopathic Physicians|Internal Medicine|Cardiovascular Disease",
         70220841
        ],
        [
         "Allopathic & Osteopathic Physicians|Internal Medicine|Hematology & Oncology",
         69468941
        ],
        [
         "Allopathic & Osteopathic Physicians|Orthopaedic Surgery|Adult Reconstructive Orthopaedic Surgery",
         66772837
        ],
        [
         "Allopathic & Osteopathic Physicians|Psychiatry & Neurology|Psychiatry",
         63298254
        ],
        [
         "Allopathic & Osteopathic Physicians|Surgery",
         62493627
        ]
       ],
       "datasetInfos": [],
       "dbfsResultPath": null,
       "isJsonSchema": true,
       "metadata": {},
       "overflow": false,
       "plotOptions": {
        "customPlotOptions": {},
        "displayType": "table",
        "pivotAggregation": null,
        "pivotColumns": null,
        "xColumns": null,
        "yColumns": null
       },
       "removedWidgets": [],
       "schema": [
        {
         "metadata": "{}",
         "name": "Covered_Recipient_Specialty_1",
         "type": "\"string\""
        },
        {
         "metadata": "{}",
         "name": "Total amount($)",
         "type": "\"long\""
        }
       ],
       "type": "table"
      }
     },
     "output_type": "display_data"
    }
   ],
   "source": [
    "from pyspark.sql import functions as F\n",
    "from pyspark.sql.types import LongType\n",
    "\n",
    "merged_df = df.na.drop(subset=[\"Covered_Recipient_Profile_ID\", \"Total_Amount_of_Payment_USDollars\"]) \\\n",
    "    .join(OP_CVRD_df, on=\"Covered_Recipient_Profile_ID\", how=\"inner\")\n",
    "specialties_amount_df = merged_df.groupBy(\"Covered_Recipient_Specialty_1\") \\\n",
    "    .agg(F.sum(\"Total_Amount_of_Payment_USDollars\").cast(LongType()).alias(\"Total amount($)\")) \\\n",
    "    .orderBy(F.desc(\"Total amount($)\")) \\\n",
    "    .limit(10)\n",
    "\n",
    "display(specialties_amount_df)\n"
   ]
  },
  {
   "cell_type": "markdown",
   "metadata": {
    "application/vnd.databricks.v1+cell": {
     "cellMetadata": {},
     "inputWidgets": {},
     "nuid": "35dec4ef-62f1-488e-956f-f5e5b3d23a97",
     "showTitle": false,
     "tableResultSettingsMap": {},
     "title": ""
    }
   },
   "source": [
    "**Interpretation:** This analysis examines the top 10 physician specialties by total payment amount by first merging the physician profile data (OP_CVRD_df) with the payment transaction data (df) using the Covered_Recipient_Profile_ID. It ensures that any rows with missing values in critical columns (Covered_Recipient_Profile_ID and Total_Amount_of_Payment_USDollars) are excluded. The dataset is then grouped by physician specialty (Covered_Recipient_Specialty_1), and the total payment for each specialty is aggregated using the sum() function. The results are sorted in descending order, and the top 10 specialties are selected. The output shows that \"Orthopaedic Surgery\" receives the highest total payment, followed by specialties like \"Internal Medicine,\" \"Neurology,\" and \"Dermatology.\" "
   ]
  },
  {
   "cell_type": "markdown",
   "metadata": {
    "application/vnd.databricks.v1+cell": {
     "cellMetadata": {},
     "inputWidgets": {},
     "nuid": "e46cf21e-c41e-46f3-9591-2d51caa6690f",
     "showTitle": false,
     "tableResultSettingsMap": {},
     "title": ""
    }
   },
   "source": [
    "**5. Who are the top ten physicians by total amount?**\n"
   ]
  },
  {
   "cell_type": "code",
   "execution_count": 0,
   "metadata": {
    "application/vnd.databricks.v1+cell": {
     "cellMetadata": {
      "byteLimit": 2048000,
      "rowLimit": 10000
     },
     "inputWidgets": {},
     "nuid": "a1c4bdc2-e3a8-4613-94f3-e9035a1df44f",
     "showTitle": false,
     "tableResultSettingsMap": {},
     "title": ""
    }
   },
   "outputs": [
    {
     "output_type": "display_data",
     "data": {
      "text/html": [
       "<style scoped>\n",
       "  .table-result-container {\n",
       "    max-height: 300px;\n",
       "    overflow: auto;\n",
       "  }\n",
       "  table, th, td {\n",
       "    border: 1px solid black;\n",
       "    border-collapse: collapse;\n",
       "  }\n",
       "  th, td {\n",
       "    padding: 5px;\n",
       "  }\n",
       "  th {\n",
       "    text-align: left;\n",
       "  }\n",
       "</style><div class='table-result-container'><table class='table-result'><thead style='background-color: white'><tr><th>Covered_Recipient_Profile_ID</th><th>Total amount($)</th><th>Covered_Recipient_Profile_First_Name</th><th>Covered_Recipient_Profile_Middle_Name</th><th>Covered_Recipient_Profile_Last_Name</th><th>Covered_Recipient_NPI</th><th>Covered_Recipient_Profile_Address_Line_1</th><th>Covered_Recipient_Profile_City</th><th>Covered_Recipient_Profile_State</th><th>Covered_Recipient_Profile_Zipcode</th></tr></thead><tbody><tr><td>1396828</td><td>3109</td><td>MICHAEL</td><td>BENJAMIN</td><td>KRANTZOW</td><td>1306167614</td><td>9970 CENTRAL PARK BLVD N</td><td>BOCA RATON</td><td>FL</td><td>33428-2231</td></tr><tr><td>83101</td><td>1891</td><td>ULRICH</td><td>null</td><td>LUFT</td><td>1831115229</td><td>100 SPALDING DR</td><td>NAPERVILLE</td><td>IL</td><td>60540-6550</td></tr><tr><td>186264</td><td>1555</td><td>RICARDO</td><td>null</td><td>IZQUIERDO</td><td>1093821753</td><td>2425 W 22ND ST</td><td>OAK BROOK</td><td>IL</td><td>60523-1245</td></tr><tr><td>728183</td><td>740</td><td>RITA</td><td>null</td><td>HUTCHINSON BLACK</td><td>1801225255</td><td>7300 SANDLAKE COMMONS BLVD STE 220</td><td>ORLANDO</td><td>FL</td><td>32819-8011</td></tr><tr><td>783782</td><td>389</td><td>CHRISTOPHER</td><td>S</td><td>JONES</td><td>1760514467</td><td>320 N MERIDIAN ST</td><td>INDIANAPOLIS</td><td>IN</td><td>46204-1719</td></tr><tr><td>10500007</td><td>370</td><td>THARA</td><td>null</td><td>BHANGU</td><td>1588091243</td><td>7600 SW 87TH AVE STE 206</td><td>MIAMI</td><td>FL</td><td>33173</td></tr><tr><td>47919</td><td>298</td><td>ROBIN</td><td>E</td><td>HAUCK</td><td>1043445745</td><td>245 E MAIN ST</td><td>RAMSEY</td><td>NJ</td><td>07446-1942</td></tr><tr><td>10641949</td><td>271</td><td>REBECCA</td><td>null</td><td>CORBIN</td><td>1467040329</td><td>2637 BROADWAY</td><td>NEW YORK</td><td>NY</td><td>10025</td></tr><tr><td>476559</td><td>42</td><td>JEFFREY</td><td>null</td><td>NYMAN</td><td>1962419036</td><td>1200 W GODFREY AVE</td><td>PHILADELPHIA</td><td>PA</td><td>19141-3323</td></tr><tr><td>11461381</td><td>13</td><td>CHRISTOPHER</td><td>null</td><td>LE</td><td>1700560703</td><td>301 UNIVERSITY BLVD GALVESTON</td><td>GALVESTON</td><td>TX</td><td>77555-1385</td></tr></tbody></table></div>"
      ]
     },
     "metadata": {
      "application/vnd.databricks.v1+output": {
       "addedWidgets": {},
       "aggData": [],
       "aggError": "",
       "aggOverflow": false,
       "aggSchema": [],
       "aggSeriesLimitReached": false,
       "aggType": "",
       "arguments": {},
       "columnCustomDisplayInfos": {},
       "data": [
        [
         "1396828",
         3109,
         "MICHAEL",
         "BENJAMIN",
         "KRANTZOW",
         1306167614,
         "9970 CENTRAL PARK BLVD N",
         "BOCA RATON",
         "FL",
         "33428-2231"
        ],
        [
         "83101",
         1891,
         "ULRICH",
         null,
         "LUFT",
         1831115229,
         "100 SPALDING DR",
         "NAPERVILLE",
         "IL",
         "60540-6550"
        ],
        [
         "186264",
         1555,
         "RICARDO",
         null,
         "IZQUIERDO",
         1093821753,
         "2425 W 22ND ST",
         "OAK BROOK",
         "IL",
         "60523-1245"
        ],
        [
         "728183",
         740,
         "RITA",
         null,
         "HUTCHINSON BLACK",
         1801225255,
         "7300 SANDLAKE COMMONS BLVD STE 220",
         "ORLANDO",
         "FL",
         "32819-8011"
        ],
        [
         "783782",
         389,
         "CHRISTOPHER",
         "S",
         "JONES",
         1760514467,
         "320 N MERIDIAN ST",
         "INDIANAPOLIS",
         "IN",
         "46204-1719"
        ],
        [
         "10500007",
         370,
         "THARA",
         null,
         "BHANGU",
         1588091243,
         "7600 SW 87TH AVE STE 206",
         "MIAMI",
         "FL",
         "33173"
        ],
        [
         "47919",
         298,
         "ROBIN",
         "E",
         "HAUCK",
         1043445745,
         "245 E MAIN ST",
         "RAMSEY",
         "NJ",
         "07446-1942"
        ],
        [
         "10641949",
         271,
         "REBECCA",
         null,
         "CORBIN",
         1467040329,
         "2637 BROADWAY",
         "NEW YORK",
         "NY",
         "10025"
        ],
        [
         "476559",
         42,
         "JEFFREY",
         null,
         "NYMAN",
         1962419036,
         "1200 W GODFREY AVE",
         "PHILADELPHIA",
         "PA",
         "19141-3323"
        ],
        [
         "11461381",
         13,
         "CHRISTOPHER",
         null,
         "LE",
         1700560703,
         "301 UNIVERSITY BLVD GALVESTON",
         "GALVESTON",
         "TX",
         "77555-1385"
        ]
       ],
       "datasetInfos": [],
       "dbfsResultPath": null,
       "isJsonSchema": true,
       "metadata": {},
       "overflow": false,
       "plotOptions": {
        "customPlotOptions": {},
        "displayType": "table",
        "pivotAggregation": null,
        "pivotColumns": null,
        "xColumns": null,
        "yColumns": null
       },
       "removedWidgets": [],
       "schema": [
        {
         "metadata": "{}",
         "name": "Covered_Recipient_Profile_ID",
         "type": "\"string\""
        },
        {
         "metadata": "{}",
         "name": "Total amount($)",
         "type": "\"long\""
        },
        {
         "metadata": "{}",
         "name": "Covered_Recipient_Profile_First_Name",
         "type": "\"string\""
        },
        {
         "metadata": "{}",
         "name": "Covered_Recipient_Profile_Middle_Name",
         "type": "\"string\""
        },
        {
         "metadata": "{}",
         "name": "Covered_Recipient_Profile_Last_Name",
         "type": "\"string\""
        },
        {
         "metadata": "{}",
         "name": "Covered_Recipient_NPI",
         "type": "\"integer\""
        },
        {
         "metadata": "{}",
         "name": "Covered_Recipient_Profile_Address_Line_1",
         "type": "\"string\""
        },
        {
         "metadata": "{}",
         "name": "Covered_Recipient_Profile_City",
         "type": "\"string\""
        },
        {
         "metadata": "{}",
         "name": "Covered_Recipient_Profile_State",
         "type": "\"string\""
        },
        {
         "metadata": "{}",
         "name": "Covered_Recipient_Profile_Zipcode",
         "type": "\"string\""
        }
       ],
       "type": "table"
      }
     },
     "output_type": "display_data"
    }
   ],
   "source": [
    "from pyspark.sql.types import LongType\n",
    "\n",
    "OP_CVRD_df = OP_CVRD_df.selectExpr(\n",
    "    \"Covered_Recipient_Profile_ID\", \n",
    "    \"Covered_Recipient_Profile_First_Name\", \n",
    "    \"Covered_Recipient_Profile_Middle_Name\", \n",
    "    \"Covered_Recipient_Profile_Last_Name\", \n",
    "    \"Covered_Recipient_NPI\", \n",
    "    \"Covered_Recipient_Profile_Address_Line_1\",\n",
    "    \"Covered_Recipient_Profile_City\", \n",
    "    \"Covered_Recipient_Profile_State\", \n",
    "    \"Covered_Recipient_Profile_Zipcode\"\n",
    ").distinct()\n",
    "\n",
    "physicians_amount_df = df.na.drop(subset=[\"Covered_Recipient_Profile_ID\", \"Total_Amount_of_Payment_USDollars\"]) \\\n",
    "    .groupBy(\"Covered_Recipient_Profile_ID\") \\\n",
    "    .agg(sum(\"Total_Amount_of_Payment_USDollars\").cast(LongType()).alias(\"Total amount($)\")) \\\n",
    "    .limit(10)\n",
    "physicians_amount_df = physicians_amount_df.join(OP_CVRD_df, on=\"Covered_Recipient_Profile_ID\", how=\"inner\") \\\n",
    "    .orderBy(desc(\"Total amount($)\"))\n",
    "\n",
    "display(physicians_amount_df)"
   ]
  },
  {
   "cell_type": "markdown",
   "metadata": {
    "application/vnd.databricks.v1+cell": {
     "cellMetadata": {},
     "inputWidgets": {},
     "nuid": "5f75982c-9111-4b0f-b970-e37189c461f8",
     "showTitle": false,
     "tableResultSettingsMap": {},
     "title": ""
    }
   },
   "source": [
    "**Interpretation:** I identified the top 10 physicians who received the highest total payments and retrieved their profile details. First, I selected relevant columns from OP_CVRD_df, ensuring distinct records of physicians’ profiles, including their names, NPI, and address details. Then, I processed df, which contains payment transaction data, by filtering out missing values in the Covered_Recipient_Profile_ID and Total_Amount_of_Payment_USDollars columns. The data was then grouped by Covered_Recipient_Profile_ID. The top 10 physicians with the highest total payments were selected and joined with their profile details using an inner join. The results were sorted in descending order based on payment amounts and displayed. The output shows that Michael Benjamin Krantzow received the highest total payment, followed by Ulrich Luft and Ricardo Izquierdo, with payments ranging from 3,109dollars to as low as 13dollars. "
   ]
  }
 ],
 "metadata": {
  "application/vnd.databricks.v1+notebook": {
   "computePreferences": null,
   "dashboards": [],
   "environmentMetadata": null,
   "language": "python",
   "notebookMetadata": {
    "mostRecentlyExecutedCommandWithImplicitDF": {
     "commandId": 449229576194191,
     "dataframes": [
      "_sqldf"
     ]
    },
    "pythonIndentUnit": 4
   },
   "notebookName": "Week 7-Spark Application Assignemnt",
   "widgets": {}
  }
 },
 "nbformat": 4,
 "nbformat_minor": 0
}
